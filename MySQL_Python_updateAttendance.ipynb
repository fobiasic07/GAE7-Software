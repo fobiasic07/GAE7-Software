{
 "cells": [
  {
   "attachments": {},
   "cell_type": "markdown",
   "id": "517e4c87",
   "metadata": {},
   "source": [
    "# MySQL Python connection\n",
    "\n",
    "Some Python code to implement connection to the MySQL server and write attendance data to it.\n",
    "We need to import the Python-MySQL driver to be used in connecting to the database and performing SQL statements(INSERT, SELECT)\n",
    "\n",
    "A prerequisite is installation of the driver. This can be done by running the command below from a terminal:  \n",
    "`pip install mysql-connector-python`"
   ]
  },
  {
   "cell_type": "code",
   "execution_count": 1,
   "id": "1c5ef01e",
   "metadata": {},
   "outputs": [],
   "source": [
    "import mysql.connector\n",
    "from mysql.connector import Error"
   ]
  },
  {
   "attachments": {},
   "cell_type": "markdown",
   "id": "c8868cd8",
   "metadata": {},
   "source": [
    "## Database Configuration Parameters\n",
    "Here we define constants to be used in connecting to the database:\n",
    "* DB_HOST: the host server(using localhost for now, but will be changed when hosted)\n",
    "* DB_PORT: the port on the host server where the database communicates\n",
    "* DB_NAME: the database name\n",
    "* USER_NAME & USER_PWD: database user credentials "
   ]
  },
  {
   "cell_type": "code",
   "execution_count": 2,
   "id": "8ede550b",
   "metadata": {},
   "outputs": [],
   "source": [
    "DB_HOST = \"localhost\"\n",
    "DB_PORT =\"3308\"\n",
    "DB_NAME = \"gae\"\n",
    "USER_NAME = \"root\"\n",
    "USER_PWD = \"\""
   ]
  },
  {
   "attachments": {},
   "cell_type": "markdown",
   "id": "50b195a4",
   "metadata": {},
   "source": [
    "## Database Connection\n",
    "This is where we connect to the connect using the parameters defined previously.\n",
    "The connection attempt is surrounded in a try-catch block as the driver throws errors in case of failure."
   ]
  },
  {
   "cell_type": "code",
   "execution_count": 10,
   "id": "6290991b",
   "metadata": {},
   "outputs": [],
   "source": [
    "def create_connection():\n",
    "    connection = None\n",
    "    try:\n",
    "        connection = mysql.connector.connect(\n",
    "            host=DB_HOST,\n",
    "            port=DB_PORT,\n",
    "            user=USER_NAME,\n",
    "            passwd=USER_PWD,\n",
    "            database=DB_NAME\n",
    "        )\n",
    "        print(f\"Connection to MySQL {DB_NAME} database successful\")\n",
    "    except Error as e:\n",
    "        print(f\"Error: {e}\")\n",
    "\n",
    "    return connection"
   ]
  },
  {
   "attachments": {},
   "cell_type": "markdown",
   "id": "317569bd",
   "metadata": {},
   "source": [
    "## SELECTION of student database ID\n",
    "\n",
    "We first query the database to retrieve the student ID to be used in logging attendance.\n",
    "Since the Face Recognition system uses national ID numbers as the identifier, we search for IDs using this parameter."
   ]
  },
  {
   "cell_type": "code",
   "execution_count": 4,
   "id": "f3fb726a",
   "metadata": {},
   "outputs": [],
   "source": [
    "def fetch_student_id(connection, nat_id):\n",
    "    query = \"SELECT id FROM students WHERE national_id = %s\"\n",
    "    cursor = connection.cursor(buffered=True)\n",
    "    cursor.execute(query, [nat_id])\n",
    "    user_id = cursor.fetchone()[0]\n",
    "    cursor.close()\n",
    "    return user_id"
   ]
  },
  {
   "attachments": {},
   "cell_type": "markdown",
   "id": "0f226f4c",
   "metadata": {},
   "source": [
    "## INSERTION of attendance record\n",
    "Having retrieved the student's id, we can now INSERT their clocking in time to the `attendance` table.\n",
    "We then print the `lastrowid` as feedback to show successful insertion."
   ]
  },
  {
   "cell_type": "code",
   "execution_count": 8,
   "id": "96b714fd",
   "metadata": {},
   "outputs": [],
   "source": [
    "def insert_student_attendance(nat_id, time_in):\n",
    "    query = \"INSERT INTO attendance(user_id, time_in) VALUES (%s, %s)\"\n",
    "    connection = create_connection()\n",
    "    user_id = fetch_student_id(connection, nat_id)\n",
    "    cursor = connection.cursor()\n",
    "    attendance = (user_id, time_in)\n",
    "    cursor.execute(query, attendance)\n",
    "    print('Inserted record: ', cursor.lastrowid)\n",
    "    connection.commit()\n",
    "    cursor.close()\n",
    "    connection.close()    "
   ]
  },
  {
   "attachments": {},
   "cell_type": "markdown",
   "id": "cb9cee6d",
   "metadata": {},
   "source": [
    "## Example"
   ]
  },
  {
   "cell_type": "code",
   "execution_count": 11,
   "id": "280445f5",
   "metadata": {},
   "outputs": [
    {
     "name": "stdout",
     "output_type": "stream",
     "text": [
      "Connection to MySQL gae database successful\n",
      "Inserted record:  15\n"
     ]
    }
   ],
   "source": [
    "\n",
    "insert_student_attendance('36929828', '2023-02-20 09:50:49')"
   ]
  }
 ],
 "metadata": {
  "kernelspec": {
   "display_name": "base",
   "language": "python",
   "name": "python3"
  },
  "language_info": {
   "codemirror_mode": {
    "name": "ipython",
    "version": 3
   },
   "file_extension": ".py",
   "mimetype": "text/x-python",
   "name": "python",
   "nbconvert_exporter": "python",
   "pygments_lexer": "ipython3",
   "version": "3.9.13"
  },
  "vscode": {
   "interpreter": {
    "hash": "ad2bdc8ecc057115af97d19610ffacc2b4e99fae6737bb82f5d7fb13d2f2c186"
   }
  }
 },
 "nbformat": 4,
 "nbformat_minor": 5
}
